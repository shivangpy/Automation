{
 "cells": [
  {
   "cell_type": "code",
   "execution_count": 14,
   "metadata": {},
   "outputs": [],
   "source": [
    "f=open('C:/Users/This PC/Downloads/Ex_Files_Python_Automation/Ex_Files_Python_Automation/Exercise Files/inputFile.txt','r')\n",
    "passFile=open('C:/Users/This PC/Downloads/Ex_Files_Python_Automation/Ex_Files_Python_Automation/Exercise Files/PassFile.txt','w')\n",
    "failFile=open('C:/Users/This PC/Downloads/Ex_Files_Python_Automation/Ex_Files_Python_Automation/Exercise Files/FailFile.txt','w')\n",
    "for line in f:\n",
    "    line_split=line.split()\n",
    "    if line_split[2]=='P':\n",
    "        passFile.write(line)\n",
    "    else:\n",
    "        failFile.write(line)\n",
    "f.close()\n",
    "passFile.close()\n",
    "failFile.close()"
   ]
  },
  {
   "cell_type": "code",
   "execution_count": 8,
   "metadata": {},
   "outputs": [],
   "source": []
  },
  {
   "cell_type": "code",
   "execution_count": null,
   "metadata": {},
   "outputs": [],
   "source": []
  }
 ],
 "metadata": {
  "kernelspec": {
   "display_name": "Python 3",
   "language": "python",
   "name": "python3"
  },
  "language_info": {
   "codemirror_mode": {
    "name": "ipython",
    "version": 3
   },
   "file_extension": ".py",
   "mimetype": "text/x-python",
   "name": "python",
   "nbconvert_exporter": "python",
   "pygments_lexer": "ipython3",
   "version": "3.7.4"
  }
 },
 "nbformat": 4,
 "nbformat_minor": 4
}
